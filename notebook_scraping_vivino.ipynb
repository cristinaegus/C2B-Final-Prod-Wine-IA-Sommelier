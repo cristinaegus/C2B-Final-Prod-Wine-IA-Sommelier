{
 "cells": [
  {
   "cell_type": "markdown",
   "id": "408aa86e",
   "metadata": {},
   "source": [
    "# 🍷 Notebook de Scraping y Análisis de Vinos Vivino\n",
    "\n",
    "Este notebook está preparado para iniciar el scraping, análisis y visualización de datos de vinos extraídos de Vivino. Sigue el esquema recomendado para cada sección clave del proceso."
   ]
  },
  {
   "cell_type": "markdown",
   "id": "2996fb0a",
   "metadata": {},
   "source": [
    "**Proyecto:** Wine-IA-Web  \n",
    "**Fecha de creación:** 16 de julio de 2025  \n",
    "**Objetivo:** Extraer datos de vinos de Vivino.com para análisis y almacenamiento  \n",
    "**Lenguaje:** Python 3.12  \n",
    "**Frameworks:** Selenium, BeautifulSoup, Flask"
   ]
  },
  {
   "cell_type": "code",
   "execution_count": 6,
   "id": "a597498e",
   "metadata": {},
   "outputs": [],
   "source": [
    "from selenium import webdriver\n",
    "from selenium.webdriver.chrome.service import Service\n",
    "from selenium.webdriver.common.by import By\n",
    "from selenium.webdriver.chrome.options import Options\n",
    "from webdriver_manager.chrome import ChromeDriverManager\n",
    "from bs4 import BeautifulSoup\n",
    "import time\n",
    "import csv\n",
    "import os\n",
    "from datetime import datetime\n",
    "from flask import Flask, render_template, request, jsonify"
   ]
  },
  {
   "cell_type": "markdown",
   "id": "8fdcc187",
   "metadata": {},
   "source": [
    "## Configurar entorno virtual y dependencias\n",
    "\n",
    "Para asegurar un entorno limpio y reproducible, crea un entorno virtual y instala las dependencias necesarias:\n",
    "\n",
    "```bash\n",
    "python -m venv wine_env\n",
    "wine_env\\Scripts\\activate\n",
    "pip install selenium beautifulsoup4 flask webdriver-manager\n",
    "```\n",
    "\n",
    "Puedes añadir estas líneas en una terminal antes de ejecutar el notebook."
   ]
  },
  {
   "cell_type": "code",
   "execution_count": 7,
   "id": "da3b76ec",
   "metadata": {},
   "outputs": [],
   "source": [
    "# Inicializar Selenium WebDriver con WebDriver Manager\n",
    "chrome_options = Options()\n",
    "chrome_options.add_argument('--headless')              # Sin interfaz gráfica\n",
    "chrome_options.add_argument('--disable-gpu')           # Deshabilitar GPU\n",
    "chrome_options.add_argument('--no-sandbox')            # Sin sandbox\n",
    "chrome_options.add_argument('--window-size=1920,1080') # Resolución fija\n",
    "chrome_options.add_argument('--disable-dev-shm-usage') # Optimización memoria\n",
    "chrome_options.add_argument('--disable-web-security')  # Bypass seguridad web\n",
    "chrome_options.add_argument('--disable-features=VizDisplayCompositor')\n",
    "chrome_options.add_argument('--user-agent=Mozilla/5.0 (Windows NT 10.0; Win64; x64) AppleWebKit/537.36')\n",
    "\n",
    "service = Service(ChromeDriverManager().install())\n",
    "driver = webdriver.Chrome(service=service, options=chrome_options)\n"
   ]
  },
  {
   "cell_type": "code",
   "execution_count": 8,
   "id": "843cee61",
   "metadata": {},
   "outputs": [
    {
     "name": "stdout",
     "output_type": "stream",
     "text": [
      "Página de GuiaPenin cargada correctamente.\n"
     ]
    }
   ],
   "source": [
    "# Acceder a la URL objetivo y cargar la página de GuiaPenin\n",
    "url_guia = \"https://guiapenin.wine/vinos/?moneda=EUR&rating_min=3.8&order=best-picks&price_min=7&price_max=60&region=España&type=tinto,garnacha\"\n",
    "driver.get(url_guia)\n",
    "time.sleep(5)  # Esperar a que la página cargue completamente\n",
    "html = driver.page_source\n",
    "print(\"Página de GuiaPenin cargada correctamente.\")\n"
   ]
  },
  {
   "cell_type": "code",
   "execution_count": 9,
   "id": "b6feec89",
   "metadata": {},
   "outputs": [
    {
     "name": "stdout",
     "output_type": "stream",
     "text": [
      "Tarjetas de vino encontradas: 0\n",
      "Enlaces de vinos encontrados: 0\n"
     ]
    }
   ],
   "source": [
    "# Extraer tarjetas y enlaces de vinos usando BeautifulSoup (GuiaPenin)\n",
    "soup = BeautifulSoup(html, 'html.parser')\n",
    "\n",
    "# Buscar tarjetas de vino en GuiaPenin\n",
    "wine_cards = soup.find_all('div', class_='wine-card')\n",
    "print(f\"Tarjetas de vino encontradas: {len(wine_cards)}\")\n",
    "\n",
    "# Buscar enlaces de vinos en GuiaPenin\n",
    "wine_links = soup.find_all('a', href=lambda x: x and '/vino/' in str(x))\n",
    "print(f\"Enlaces de vinos encontrados: {len(wine_links)}\")\n"
   ]
  },
  {
   "cell_type": "code",
   "execution_count": 10,
   "id": "f17e5e7d",
   "metadata": {},
   "outputs": [
    {
     "name": "stdout",
     "output_type": "stream",
     "text": [
      "Vinos extraídos: 0\n",
      "[]\n"
     ]
    }
   ],
   "source": [
    "# Extraer precios, nombres y URLs de cada vino (GuiaPenin)\n",
    "import re\n",
    "vinos_extraidos = []\n",
    "for idx, card in enumerate(wine_cards):\n",
    "    # Nombre del vino\n",
    "    nombre_tag = card.find('h3', class_='wine-title')\n",
    "    nombre = nombre_tag.get_text(strip=True) if nombre_tag else card.get_text(separator=\" \", strip=True)\n",
    "    # Buscar precio\n",
    "    precio_tag = card.find('span', class_='wine-price')\n",
    "    precio_eur = None\n",
    "    if precio_tag:\n",
    "        precio_match = re.search(r'(\\d+[,.]?\\d*)\\s*€', precio_tag.get_text())\n",
    "        if precio_match:\n",
    "            precio_eur = float(precio_match.group(1).replace(',', '.'))\n",
    "    # Buscar URL\n",
    "    url = None\n",
    "    link = card.find('a', href=True)\n",
    "    if link and '/vino/' in link['href']:\n",
    "        url = link['href']\n",
    "        if not url.startswith('http'):\n",
    "            url = 'https://guiapenin.wine' + url\n",
    "    vinos_extraidos.append({\n",
    "        'nombre': nombre,\n",
    "        'precio_eur': precio_eur,\n",
    "        'url': url,\n",
    "        'posicion': idx + 1\n",
    "    })\n",
    "print(f\"Vinos extraídos: {len(vinos_extraidos)}\")\n",
    "print(vinos_extraidos[:3])  # Mostrar los primeros 3 vinos extraídos\n"
   ]
  },
  {
   "cell_type": "code",
   "execution_count": null,
   "id": "65e8c045",
   "metadata": {},
   "outputs": [],
   "source": [
    "# Guardar datos en archivos CSV (GuiaPenin)\n",
    "import pandas as pd\n",
    "\n",
    "def guardar_datos_csv(vinos, nombre_archivo):\n",
    "    df = pd.DataFrame(vinos)\n",
    "    df.to_csv(nombre_archivo, index=False, encoding='utf-8')\n",
    "    print(f\"Datos guardados en {nombre_archivo}\")\n",
    "\n",
    "# Guardar archivo individual por sesión\n",
    "fecha = datetime.now().strftime('%Y%m%d_%H%M%S')\n",
    "nombre_individual = f\"datos_scraping/guia_scraping_{fecha}.csv\"\n",
    "guardar_datos_csv(vinos_extraidos, nombre_individual)\n",
    "\n",
    "# Guardar en archivo histórico consolidado\n",
    "nombre_historico = \"datos_scraping/guia_historico.csv\"\n",
    "if os.path.exists(nombre_historico):\n",
    "    df_hist = pd.read_csv(nombre_historico)\n",
    "    df_nuevo = pd.DataFrame(vinos_extraidos)\n",
    "    df_hist = pd.concat([df_hist, df_nuevo], ignore_index=True)\n",
    "    df_hist.to_csv(nombre_historico, index=False, encoding='utf-8')\n",
    "    print(f\"Datos agregados al histórico {nombre_historico}\")\n",
    "else:\n",
    "    guardar_datos_csv(vinos_extraidos, nombre_historico)\n"
   ]
  },
  {
   "cell_type": "code",
   "execution_count": null,
   "id": "4143b82a",
   "metadata": {},
   "outputs": [],
   "source": [
    "# Visualización de los resultados extraídos\n",
    "import pandas as pd\n",
    "from IPython.display import display\n",
    "\n",
    "df_vinos = pd.DataFrame(vinos_extraidos)\n",
    "display(df_vinos.head(10))  # Mostrar los primeros 10 vinos\n",
    "\n",
    "# Estadísticas básicas\n",
    "print(f\"Total de vinos extraídos: {len(df_vinos)}\")\n",
    "if 'precio_eur' in df_vinos.columns:\n",
    "    print(f\"Precio promedio: {df_vinos['precio_eur'].mean():.2f} €\")\n",
    "    print(f\"Precio mínimo: {df_vinos['precio_eur'].min():.2f} €\")\n",
    "    print(f\"Precio máximo: {df_vinos['precio_eur'].max():.2f} €\")\n"
   ]
  },
  {
   "cell_type": "code",
   "execution_count": 11,
   "id": "8c6fc4e9",
   "metadata": {},
   "outputs": [
    {
     "name": "stdout",
     "output_type": "stream",
     "text": [
      "Nombre: Althay 2023\n",
      "Puntuación: None\n",
      "Precio: None\n",
      "Bodega: None\n"
     ]
    }
   ],
   "source": [
    "# Extraer datos de una página de detalle de vino en GuiaPenin\n",
    "# Ejemplo para https://guiapenin.wine/guide/wine/althay_2023_rd/es\n",
    "\n",
    "url_detalle = \"https://guiapenin.wine/guide/wine/althay_2023_rd/es\"\n",
    "driver.get(url_detalle)\n",
    "time.sleep(3)\n",
    "html_detalle = driver.page_source\n",
    "soup_detalle = BeautifulSoup(html_detalle, 'html.parser')\n",
    "\n",
    "# Nombre del vino\n",
    "nombre = soup_detalle.find('h1').get_text(strip=True) if soup_detalle.find('h1') else None\n",
    "# Puntuación (puede estar en un span o div con clase específica)\n",
    "puntuacion = None\n",
    "punt_tag = soup_detalle.find('span', class_='wine-score')\n",
    "if punt_tag:\n",
    "    puntuacion = punt_tag.get_text(strip=True)\n",
    "# Precio (si está disponible)\n",
    "precio = None\n",
    "precio_tag = soup_detalle.find('span', class_='wine-price')\n",
    "if precio_tag:\n",
    "    precio = precio_tag.get_text(strip=True)\n",
    "# Bodega\n",
    "bodega = None\n",
    "bodega_tag = soup_detalle.find('div', class_='wine-producer')\n",
    "if bodega_tag:\n",
    "    bodega = bodega_tag.get_text(strip=True)\n",
    "\n",
    "print(f\"Nombre: {nombre}\")\n",
    "print(f\"Puntuación: {puntuacion}\")\n",
    "print(f\"Precio: {precio}\")\n",
    "print(f\"Bodega: {bodega}\")\n"
   ]
  }
 ],
 "metadata": {
  "kernelspec": {
   "display_name": "Wine Analysis (.venv)",
   "language": "python",
   "name": "wine-analysis"
  },
  "language_info": {
   "codemirror_mode": {
    "name": "ipython",
    "version": 3
   },
   "file_extension": ".py",
   "mimetype": "text/x-python",
   "name": "python",
   "nbconvert_exporter": "python",
   "pygments_lexer": "ipython3",
   "version": "3.12.10"
  }
 },
 "nbformat": 4,
 "nbformat_minor": 5
}
